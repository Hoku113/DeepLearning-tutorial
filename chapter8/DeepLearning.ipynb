{
 "cells": [
  {
   "cell_type": "markdown",
   "metadata": {},
   "source": [
    "# DeepLearning"
   ]
  },
  {
   "cell_type": "markdown",
   "metadata": {},
   "source": [
    "### 1, Train Mnist data using deepLearning"
   ]
  },
  {
   "cell_type": "code",
   "execution_count": 17,
   "metadata": {},
   "outputs": [
    {
     "data": {
      "text/plain": [
       "16"
      ]
     },
     "execution_count": 17,
     "metadata": {},
     "output_type": "execute_result"
    }
   ],
   "source": [
    "conv_param_1 = {'filter_num':16, 'filter_size':3, 'pad':1, 'stride':1}\n",
    "conv_param_2 = {'filter_num':16, 'filter_size':3, 'pad':1, 'stride':1}\n",
    "conv_param_3 = {'filter_num':16, 'filter_size':3, 'pad':1, 'stride':1}\n",
    "\n",
    "li = list(conv_param_1)\n",
    "\n"
   ]
  },
  {
   "cell_type": "code",
   "execution_count": 14,
   "metadata": {},
   "outputs": [
    {
     "data": {
      "text/plain": [
       "['CONV',\n",
       " 'RELU',\n",
       " 'CONV',\n",
       " 'RELU',\n",
       " 'POOL',\n",
       " 'CONV',\n",
       " 'RELU',\n",
       " 'CONV',\n",
       " 'RELU',\n",
       " 'POOL',\n",
       " 'CONV',\n",
       " 'RELU',\n",
       " 'CONV',\n",
       " 'RELU',\n",
       " 'POOL']"
      ]
     },
     "execution_count": 14,
     "metadata": {},
     "output_type": "execute_result"
    }
   ],
   "source": [
    "li = ['CONV', 'CONV', 'POOL', 'CONV', 'CONV', 'POOL', 'CONV', 'CONV', 'POOL']\n",
    "for i in relu_index:\n",
    "    if i == 9:\n",
    "        continue\n",
    "    \n",
    "    li.insert(i, 'RELU')\n",
    "li\n",
    "    "
   ]
  },
  {
   "cell_type": "code",
   "execution_count": null,
   "metadata": {},
   "outputs": [],
   "source": []
  }
 ],
 "metadata": {
  "interpreter": {
   "hash": "cc688668df90e2da2c6fe127a4fae0fc63e05cce4be11dcfea3b7cd731a68cc0"
  },
  "kernelspec": {
   "display_name": "Python 3.9.5 64-bit",
   "language": "python",
   "name": "python3"
  },
  "language_info": {
   "codemirror_mode": {
    "name": "ipython",
    "version": 3
   },
   "file_extension": ".py",
   "mimetype": "text/x-python",
   "name": "python",
   "nbconvert_exporter": "python",
   "pygments_lexer": "ipython3",
   "version": "3.9.5"
  },
  "orig_nbformat": 4
 },
 "nbformat": 4,
 "nbformat_minor": 2
}
